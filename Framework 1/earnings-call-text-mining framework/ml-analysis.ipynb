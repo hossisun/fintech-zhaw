{
 "cells": [
  {
   "cell_type": "code",
   "execution_count": 203,
   "metadata": {},
   "outputs": [],
   "source": [
    "import os, random\n",
    "import pandas as pd\n",
    "import numpy as np\n",
    "import matplotlib.pyplot as plt\n",
    "from time import time"
   ]
  },
  {
   "cell_type": "code",
   "execution_count": 204,
   "metadata": {},
   "outputs": [
    {
     "name": "stdout",
     "output_type": "stream",
     "text": [
      "Totoal doc: 85\n",
      "Number of doc in default group: 30\n",
      "Number of doc in ndefault group: 55\n"
     ]
    }
   ],
   "source": [
    "def load_data(data, label):\n",
    "    for file in os.listdir(label):\n",
    "        if file.endswith('.txt') and not file.startswith('.'):\n",
    "            file_path = label + '/' + file\n",
    "            with open(file_path, 'r', encoding='utf-8') as f:\n",
    "                text = f.read()\n",
    "                data[text] = label\n",
    "df = {}\n",
    "load_data(df, 'default')\n",
    "default_num = len(df)\n",
    "load_data(df, 'ndefault')\n",
    "print(\"Totoal doc:\", len(df))\n",
    "print(\"Number of doc in default group:\", default_num)\n",
    "print(\"Number of doc in ndefault group:\", len(df)-default_num)\n",
    "X_train = []\n",
    "Y_train = []\n",
    "for doc in df:\n",
    "    X_train.append(doc)\n",
    "    Y_train.append(df[doc])"
   ]
  },
  {
   "cell_type": "code",
   "execution_count": 147,
   "metadata": {},
   "outputs": [
    {
     "name": "stdout",
     "output_type": "stream",
     "text": [
      "55 30\n"
     ]
    }
   ],
   "source": [
    "random.seed(888)\n",
    "train_df = {}\n",
    "test_df = {}\n",
    "split = random.sample(list(df), k=int(len(df)*0.65))\n",
    "for s in split:\n",
    "    train_df[s] = df[s]\n",
    "for text in df:\n",
    "    if text not in train_df:\n",
    "        test_df[text] = df[text]\n",
    "print(len(train_df), len(test_df))"
   ]
  },
  {
   "cell_type": "code",
   "execution_count": 148,
   "metadata": {},
   "outputs": [],
   "source": [
    "n_features = 1000\n",
    "from sklearn.feature_extraction.text import CountVectorizer, TfidfTransformer, TfidfVectorizer\n",
    "# count_vec = CountVectorizer(max_df=0.9, min_df=3,\n",
    "#                             max_features=n_features,\n",
    "#                             stop_words='english')\n",
    "tfidf_vectorizer = TfidfVectorizer(max_df=0.65, min_df=12,\n",
    "                                   max_features=n_features, ngram_range = (2,2), norm='l1',\n",
    "                                   stop_words='english')"
   ]
  },
  {
   "cell_type": "code",
   "execution_count": 149,
   "metadata": {},
   "outputs": [],
   "source": [
    "#x_train_counts = count_vec.fit_transform(train_df)\n",
    "x_train = tfidf_vectorizer.fit_transform([text for text in train_df])\n",
    "y_train = [train_df[t] for t in train_df]\n",
    "x_test = tfidf_vectorizer.transform([text for text in test_df])"
   ]
  },
  {
   "cell_type": "code",
   "execution_count": null,
   "metadata": {},
   "outputs": [],
   "source": [
    "# Naive Bayes Classifier\n",
    "from sklearn.naive_bayes import BernoulliNB, MultinomialNB\n",
    "nb_clf = MultinomialNB(alpha=0.9)\n",
    "nb_clf.fit(x_train, y_train)"
   ]
  },
  {
   "cell_type": "code",
   "execution_count": null,
   "metadata": {},
   "outputs": [],
   "source": [
    "nb_predicted = nb_clf.predict(x_test)"
   ]
  },
  {
   "cell_type": "code",
   "execution_count": null,
   "metadata": {},
   "outputs": [],
   "source": [
    "y_test = [test_df[t] for t in test_df]\n",
    "eval_len = len(nb_predicted)"
   ]
  },
  {
   "cell_type": "code",
   "execution_count": null,
   "metadata": {},
   "outputs": [],
   "source": [
    "from sklearn import metrics\n",
    "print(metrics.classification_report(y_test, nb_predicted))"
   ]
  },
  {
   "cell_type": "code",
   "execution_count": null,
   "metadata": {},
   "outputs": [],
   "source": [
    "# SVM\n",
    "from sklearn import svm\n",
    "svm_clf = svm.SVC(gamma='scale', kernel='sigmoid', probability=True)\n",
    "\n",
    "svm_clf.fit(x_train, y_train)"
   ]
  },
  {
   "cell_type": "code",
   "execution_count": null,
   "metadata": {},
   "outputs": [],
   "source": [
    "svm_predicted = svm_clf.predict(x_test)\n",
    "print(metrics.classification_report(y_test, svm_predicted))"
   ]
  },
  {
   "cell_type": "code",
   "execution_count": null,
   "metadata": {},
   "outputs": [],
   "source": [
    "# Random Forest Classifier\n",
    "from sklearn.ensemble import RandomForestClassifier\n",
    "rf_clf = RandomForestClassifier(n_estimators=3000, criterion='entropy', max_features=None, class_weight='balanced')\n",
    "rf_clf.fit(x_train, y_train)\n",
    "rf_predicted = rf_clf.predict(x_test)\n",
    "print(metrics.classification_report(y_test, rf_predicted))"
   ]
  },
  {
   "cell_type": "code",
   "execution_count": null,
   "metadata": {},
   "outputs": [],
   "source": [
    "from sklearn.neighbors import NearestCentroid\n",
    "nc_clf = NearestCentroid(metric='manhattan')\n",
    "nc_clf.fit(x_train, y_train)\n",
    "nc_predicted = nc_clf.predict(x_test)\n",
    "print(metrics.classification_report(y_test, nc_predicted))"
   ]
  },
  {
   "cell_type": "code",
   "execution_count": null,
   "metadata": {},
   "outputs": [],
   "source": [
    "#unknown_predict = svm_clf.predict_proba(x_unknown)"
   ]
  },
  {
   "cell_type": "code",
   "execution_count": null,
   "metadata": {},
   "outputs": [],
   "source": [
    "y_test"
   ]
  },
  {
   "cell_type": "code",
   "execution_count": null,
   "metadata": {},
   "outputs": [],
   "source": [
    "import numpy as np\n",
    "# Benchmark classifiers\n",
    "def benchmark(clf):\n",
    "    print('_' * 80)\n",
    "    print(\"Training: \")\n",
    "    print(clf)\n",
    "    t0 = time()\n",
    "    clf.fit(x_train, y_train)\n",
    "    train_time = time() - t0\n",
    "    print(\"train time: %0.3fs\" % train_time)\n",
    "\n",
    "    t0 = time()\n",
    "    pred = clf.predict(x_test)\n",
    "    test_time = time() - t0\n",
    "    print(\"test time:  %0.3fs\" % test_time)\n",
    "\n",
    "    score = metrics.accuracy_score(y_test, pred)\n",
    "    #score = metrics.f1_score(y_test, pred)\n",
    "    print(\"accuracy:   %0.3f\" % score)\n",
    "    print(metrics.classification_report(y_test, pred))\n",
    "    \n",
    "    print()\n",
    "    clf_descr = str(clf).split('(')[0]\n",
    "    return clf_descr, score, train_time, test_time"
   ]
  },
  {
   "cell_type": "code",
   "execution_count": null,
   "metadata": {},
   "outputs": [],
   "source": [
    "# Train NearestCentroid without threshold\n",
    "results = []\n",
    "print('=' * 80)\n",
    "print(\"NearestCentroid (aka Rocchio classifier)\")\n",
    "results.append(benchmark(NearestCentroid(metric='manhattan')))"
   ]
  },
  {
   "cell_type": "code",
   "execution_count": null,
   "metadata": {},
   "outputs": [],
   "source": [
    "indices = np.arange(len(results))\n",
    "\n",
    "results = [[x[i] for x in results] for i in range(4)]\n",
    "\n",
    "clf_names, score, training_time, test_time = results\n",
    "training_time = np.array(training_time) / np.max(training_time)\n",
    "test_time = np.array(test_time) / np.max(test_time)\n",
    "\n",
    "plt.figure(figsize=(12, 8))\n",
    "plt.title(\"Score\")\n",
    "plt.barh(indices, score, .2, label=\"score\", color='navy')\n",
    "plt.barh(indices + .3, training_time, .2, label=\"training time\",\n",
    "         color='c')\n",
    "plt.barh(indices + .6, test_time, .2, label=\"test time\", color='darkorange')\n",
    "plt.yticks(())\n",
    "plt.legend(loc='best')\n",
    "plt.subplots_adjust(left=.25)\n",
    "plt.subplots_adjust(top=.95)\n",
    "plt.subplots_adjust(bottom=.05)\n",
    "\n",
    "for i, c in zip(indices, clf_names):\n",
    "    plt.text(-.3, i, c)\n",
    "\n",
    "plt.show()"
   ]
  },
  {
   "cell_type": "code",
   "execution_count": null,
   "metadata": {},
   "outputs": [],
   "source": [
    "import math\n",
    "first_vector_tfidfvectorizer=x_train[0]\n",
    "\n",
    "df = pd.DataFrame(first_vector_tfidfvectorizer.T.todense(), index=tfidf_vectorizer.get_feature_names(), columns=[\"tfidf\"])\n",
    "df.sort_values(by=[\"tfidf\"],ascending=False).head(n=50)"
   ]
  },
  {
   "cell_type": "code",
   "execution_count": null,
   "metadata": {},
   "outputs": [],
   "source": [
    "from wordcloud import WordCloud\n",
    "import matplotlib.pyplot as plt\n",
    "wordcloud = WordCloud().generate_from_frequencies(tfidf_vectorizer.vocabulary_)\n",
    "plt.imshow(wordcloud)\n",
    "plt.axis(\"off\")\n",
    "plt.show()"
   ]
  },
  {
   "cell_type": "code",
   "execution_count": 235,
   "metadata": {},
   "outputs": [],
   "source": [
    "from sklearn.feature_extraction.text import CountVectorizer, TfidfTransformer, TfidfVectorizer\n",
    "from sklearn.neighbors import NearestCentroid\n",
    "from sklearn.model_selection import KFold, StratifiedKFold, RepeatedStratifiedKFold, RepeatedKFold\n",
    "from sklearn.pipeline import Pipeline\n",
    "from sklearn import metrics\n",
    "kf = RepeatedStratifiedKFold(n_splits=3)\n",
    "\n",
    "data = pd.DataFrame(list(df.items()), columns=['text', 'class'])"
   ]
  },
  {
   "cell_type": "code",
   "execution_count": 236,
   "metadata": {},
   "outputs": [],
   "source": [
    "clf_eval = pd.DataFrame(columns=['f1 score for default', 'accuracy'])"
   ]
  },
  {
   "cell_type": "code",
   "execution_count": 246,
   "metadata": {
    "scrolled": false
   },
   "outputs": [
    {
     "name": "stdout",
     "output_type": "stream",
     "text": [
      "              precision    recall  f1-score   support\n",
      "\n",
      "     default       1.00      0.20      0.33        10\n",
      "    ndefault       0.70      1.00      0.83        19\n",
      "\n",
      "    accuracy                           0.72        29\n",
      "   macro avg       0.85      0.60      0.58        29\n",
      "weighted avg       0.81      0.72      0.66        29\n",
      "\n",
      "              precision    recall  f1-score   support\n",
      "\n",
      "     default       0.83      1.00      0.91        10\n",
      "    ndefault       1.00      0.89      0.94        18\n",
      "\n",
      "    accuracy                           0.93        28\n",
      "   macro avg       0.92      0.94      0.93        28\n",
      "weighted avg       0.94      0.93      0.93        28\n",
      "\n",
      "              precision    recall  f1-score   support\n",
      "\n",
      "     default       0.80      0.40      0.53        10\n",
      "    ndefault       0.74      0.94      0.83        18\n",
      "\n",
      "    accuracy                           0.75        28\n",
      "   macro avg       0.77      0.67      0.68        28\n",
      "weighted avg       0.76      0.75      0.72        28\n",
      "\n",
      "              precision    recall  f1-score   support\n",
      "\n",
      "     default       0.80      0.80      0.80        10\n",
      "    ndefault       0.89      0.89      0.89        19\n",
      "\n",
      "    accuracy                           0.86        29\n",
      "   macro avg       0.85      0.85      0.85        29\n",
      "weighted avg       0.86      0.86      0.86        29\n",
      "\n",
      "              precision    recall  f1-score   support\n",
      "\n",
      "     default       0.67      0.40      0.50        10\n",
      "    ndefault       0.73      0.89      0.80        18\n",
      "\n",
      "    accuracy                           0.71        28\n",
      "   macro avg       0.70      0.64      0.65        28\n",
      "weighted avg       0.71      0.71      0.69        28\n",
      "\n",
      "              precision    recall  f1-score   support\n",
      "\n",
      "     default       0.80      0.40      0.53        10\n",
      "    ndefault       0.74      0.94      0.83        18\n",
      "\n",
      "    accuracy                           0.75        28\n",
      "   macro avg       0.77      0.67      0.68        28\n",
      "weighted avg       0.76      0.75      0.72        28\n",
      "\n",
      "              precision    recall  f1-score   support\n",
      "\n",
      "     default       0.75      0.30      0.43        10\n",
      "    ndefault       0.72      0.95      0.82        19\n",
      "\n",
      "    accuracy                           0.72        29\n",
      "   macro avg       0.73      0.62      0.62        29\n",
      "weighted avg       0.73      0.72      0.68        29\n",
      "\n",
      "              precision    recall  f1-score   support\n",
      "\n",
      "     default       1.00      0.80      0.89        10\n",
      "    ndefault       0.90      1.00      0.95        18\n",
      "\n",
      "    accuracy                           0.93        28\n",
      "   macro avg       0.95      0.90      0.92        28\n",
      "weighted avg       0.94      0.93      0.93        28\n",
      "\n",
      "              precision    recall  f1-score   support\n",
      "\n",
      "     default       0.83      0.50      0.62        10\n",
      "    ndefault       0.77      0.94      0.85        18\n",
      "\n",
      "    accuracy                           0.79        28\n",
      "   macro avg       0.80      0.72      0.74        28\n",
      "weighted avg       0.79      0.79      0.77        28\n",
      "\n",
      "              precision    recall  f1-score   support\n",
      "\n",
      "     default       0.83      0.50      0.62        10\n",
      "    ndefault       0.78      0.95      0.86        19\n",
      "\n",
      "    accuracy                           0.79        29\n",
      "   macro avg       0.81      0.72      0.74        29\n",
      "weighted avg       0.80      0.79      0.78        29\n",
      "\n",
      "              precision    recall  f1-score   support\n",
      "\n",
      "     default       0.71      0.50      0.59        10\n",
      "    ndefault       0.76      0.89      0.82        18\n",
      "\n",
      "    accuracy                           0.75        28\n",
      "   macro avg       0.74      0.69      0.70        28\n",
      "weighted avg       0.74      0.75      0.74        28\n",
      "\n",
      "              precision    recall  f1-score   support\n",
      "\n",
      "     default       0.83      0.50      0.62        10\n",
      "    ndefault       0.77      0.94      0.85        18\n",
      "\n",
      "    accuracy                           0.79        28\n",
      "   macro avg       0.80      0.72      0.74        28\n",
      "weighted avg       0.79      0.79      0.77        28\n",
      "\n",
      "              precision    recall  f1-score   support\n",
      "\n",
      "     default       0.71      0.50      0.59        10\n",
      "    ndefault       0.77      0.89      0.83        19\n",
      "\n",
      "    accuracy                           0.76        29\n",
      "   macro avg       0.74      0.70      0.71        29\n",
      "weighted avg       0.75      0.76      0.75        29\n",
      "\n",
      "              precision    recall  f1-score   support\n",
      "\n",
      "     default       0.80      0.40      0.53        10\n",
      "    ndefault       0.74      0.94      0.83        18\n",
      "\n",
      "    accuracy                           0.75        28\n",
      "   macro avg       0.77      0.67      0.68        28\n",
      "weighted avg       0.76      0.75      0.72        28\n",
      "\n",
      "              precision    recall  f1-score   support\n",
      "\n",
      "     default       1.00      0.60      0.75        10\n",
      "    ndefault       0.82      1.00      0.90        18\n",
      "\n",
      "    accuracy                           0.86        28\n",
      "   macro avg       0.91      0.80      0.82        28\n",
      "weighted avg       0.88      0.86      0.85        28\n",
      "\n",
      "              precision    recall  f1-score   support\n",
      "\n",
      "     default       0.62      0.50      0.56        10\n",
      "    ndefault       0.76      0.84      0.80        19\n",
      "\n",
      "    accuracy                           0.72        29\n",
      "   macro avg       0.69      0.67      0.68        29\n",
      "weighted avg       0.71      0.72      0.72        29\n",
      "\n",
      "              precision    recall  f1-score   support\n",
      "\n",
      "     default       0.83      0.50      0.62        10\n",
      "    ndefault       0.77      0.94      0.85        18\n",
      "\n",
      "    accuracy                           0.79        28\n",
      "   macro avg       0.80      0.72      0.74        28\n",
      "weighted avg       0.79      0.79      0.77        28\n",
      "\n",
      "              precision    recall  f1-score   support\n",
      "\n",
      "     default       1.00      0.50      0.67        10\n",
      "    ndefault       0.78      1.00      0.88        18\n",
      "\n",
      "    accuracy                           0.82        28\n",
      "   macro avg       0.89      0.75      0.77        28\n",
      "weighted avg       0.86      0.82      0.80        28\n",
      "\n",
      "              precision    recall  f1-score   support\n",
      "\n",
      "     default       0.88      0.70      0.78        10\n",
      "    ndefault       0.86      0.95      0.90        19\n",
      "\n",
      "    accuracy                           0.86        29\n",
      "   macro avg       0.87      0.82      0.84        29\n",
      "weighted avg       0.86      0.86      0.86        29\n",
      "\n",
      "              precision    recall  f1-score   support\n",
      "\n",
      "     default       0.57      0.40      0.47        10\n",
      "    ndefault       0.71      0.83      0.77        18\n",
      "\n",
      "    accuracy                           0.68        28\n",
      "   macro avg       0.64      0.62      0.62        28\n",
      "weighted avg       0.66      0.68      0.66        28\n",
      "\n",
      "              precision    recall  f1-score   support\n",
      "\n",
      "     default       1.00      0.40      0.57        10\n",
      "    ndefault       0.75      1.00      0.86        18\n",
      "\n",
      "    accuracy                           0.79        28\n",
      "   macro avg       0.88      0.70      0.71        28\n",
      "weighted avg       0.84      0.79      0.76        28\n",
      "\n",
      "              precision    recall  f1-score   support\n",
      "\n",
      "     default       0.88      0.70      0.78        10\n",
      "    ndefault       0.86      0.95      0.90        19\n",
      "\n",
      "    accuracy                           0.86        29\n",
      "   macro avg       0.87      0.82      0.84        29\n",
      "weighted avg       0.86      0.86      0.86        29\n",
      "\n",
      "              precision    recall  f1-score   support\n",
      "\n",
      "     default       0.83      0.50      0.62        10\n",
      "    ndefault       0.77      0.94      0.85        18\n",
      "\n",
      "    accuracy                           0.79        28\n",
      "   macro avg       0.80      0.72      0.74        28\n",
      "weighted avg       0.79      0.79      0.77        28\n",
      "\n",
      "              precision    recall  f1-score   support\n",
      "\n",
      "     default       1.00      0.40      0.57        10\n",
      "    ndefault       0.75      1.00      0.86        18\n",
      "\n",
      "    accuracy                           0.79        28\n",
      "   macro avg       0.88      0.70      0.71        28\n",
      "weighted avg       0.84      0.79      0.76        28\n",
      "\n",
      "              precision    recall  f1-score   support\n",
      "\n",
      "     default       0.80      0.40      0.53        10\n",
      "    ndefault       0.75      0.95      0.84        19\n",
      "\n",
      "    accuracy                           0.76        29\n",
      "   macro avg       0.78      0.67      0.69        29\n",
      "weighted avg       0.77      0.76      0.73        29\n",
      "\n",
      "              precision    recall  f1-score   support\n",
      "\n",
      "     default       0.78      0.70      0.74        10\n",
      "    ndefault       0.84      0.89      0.86        18\n",
      "\n",
      "    accuracy                           0.82        28\n",
      "   macro avg       0.81      0.79      0.80        28\n",
      "weighted avg       0.82      0.82      0.82        28\n",
      "\n"
     ]
    },
    {
     "name": "stdout",
     "output_type": "stream",
     "text": [
      "              precision    recall  f1-score   support\n",
      "\n",
      "     default       0.67      0.40      0.50        10\n",
      "    ndefault       0.73      0.89      0.80        18\n",
      "\n",
      "    accuracy                           0.71        28\n",
      "   macro avg       0.70      0.64      0.65        28\n",
      "weighted avg       0.71      0.71      0.69        28\n",
      "\n",
      "              precision    recall  f1-score   support\n",
      "\n",
      "     default       0.67      0.40      0.50        10\n",
      "    ndefault       0.74      0.89      0.81        19\n",
      "\n",
      "    accuracy                           0.72        29\n",
      "   macro avg       0.70      0.65      0.65        29\n",
      "weighted avg       0.71      0.72      0.70        29\n",
      "\n",
      "              precision    recall  f1-score   support\n",
      "\n",
      "     default       1.00      0.50      0.67        10\n",
      "    ndefault       0.78      1.00      0.88        18\n",
      "\n",
      "    accuracy                           0.82        28\n",
      "   macro avg       0.89      0.75      0.77        28\n",
      "weighted avg       0.86      0.82      0.80        28\n",
      "\n",
      "              precision    recall  f1-score   support\n",
      "\n",
      "     default       0.75      0.60      0.67        10\n",
      "    ndefault       0.80      0.89      0.84        18\n",
      "\n",
      "    accuracy                           0.79        28\n",
      "   macro avg       0.78      0.74      0.75        28\n",
      "weighted avg       0.78      0.79      0.78        28\n",
      "\n",
      "train time: 20.012s\n"
     ]
    }
   ],
   "source": [
    "from sklearn.metrics import confusion_matrix, f1_score, accuracy_score\n",
    "# from sklearn.model_selection import GridSearchCV\n",
    "# parameters = {'ngram_range': [(1, 1), (2, 2)],\n",
    "#               'use_idf': (True, False),\n",
    "#               'clf__alpha': (1e-2, 1e-3)\n",
    "#              }\n",
    "f1scores = []\n",
    "acus = []\n",
    "t0 = time()\n",
    "clf_eval = pd.DataFrame(columns=['recall for default', 'accuracy'])\n",
    "for train_idx, test_idx in kf.split(X_train, Y_train):\n",
    "    text_clf = Pipeline([('vect', TfidfVectorizer(max_features=350, max_df=0.9, min_df=8, sublinear_tf=True,\n",
    "                                              ngram_range = (2,2), norm='l1', stop_words='english')),\n",
    "                         ('clf', NearestCentroid('euclidean')),\n",
    "                        ])\n",
    "    train_text = data.iloc[train_idx]['text'].values\n",
    "    train_y = data.iloc[train_idx]['class'].values\n",
    "\n",
    "    test_text = data.iloc[test_idx]['text'].values\n",
    "    test_y = data.iloc[test_idx]['class'].values\n",
    "\n",
    "    text_clf.fit(train_text, train_y)\n",
    "    predictions = text_clf.predict(test_text)\n",
    "\n",
    "    # Compute accuracy\n",
    "    print(metrics.classification_report(test_y, predictions))\n",
    "    score = f1_score(test_y, predictions, pos_label='default')\n",
    "    f1scores.append(score)\n",
    "    acus.append(accuracy_score(test_y, predictions))\n",
    "    \n",
    "print(\"train time: %0.3fs\" % (time() - t0))"
   ]
  },
  {
   "cell_type": "code",
   "execution_count": 245,
   "metadata": {},
   "outputs": [
    {
     "name": "stdout",
     "output_type": "stream",
     "text": [
      "0.6086898062278329\n",
      "0.7550492610837435\n"
     ]
    }
   ],
   "source": [
    "f1 = np.array(f1scores)\n",
    "accuracy = np.array(acus)\n",
    "print(f1.mean())\n",
    "print(accuracy.mean())"
   ]
  },
  {
   "cell_type": "code",
   "execution_count": 229,
   "metadata": {},
   "outputs": [
    {
     "data": {
      "image/png": "[encoded data removed]",
      "text/plain": [
       "<Figure size 3000x1600 with 1 Axes>"
      ]
     },
     "metadata": {
      "needs_background": "light"
     },
     "output_type": "display_data"
    }
   ],
   "source": [
    "import matplotlib.pyplot as plt\n",
    "barWidth = 0.3\n",
    "x1 = np.arange(30)\n",
    "x2 = [x + barWidth for x in x1]\n",
    "plt.figure(figsize=(15,8), dpi=200)\n",
    "plt.bar(x1, acus, width=barWidth, label='overall accuracy', )\n",
    "plt.bar(x2, f1scores, width=barWidth, label='f1 score: default group')\n",
    "plt.hlines(f1.mean(), xmin=-0.4, xmax=29.6, color='darkblue', linestyles='dashdot', label='average f1 score: default group')\n",
    "plt.hlines(accuracy.mean(), xmin=-0.4, xmax=29.6, color='orange', linestyles='dashdot', label='average accuracy')\n",
    "plt.xlabel('Ten repeated 3-Fold Cross Validations', fontweight='bold')\n",
    "plt.xticks(x1, [str(x+1) for x in x1])\n",
    "plt.legend()\n",
    "plt.show()"
   ]
  },
  {
   "cell_type": "code",
   "execution_count": 247,
   "metadata": {},
   "outputs": [],
   "source": [
    "voc = pd.DataFrame(list(text_clf['vect'].vocabulary_.items()), columns=['features', 'count'])\n",
    "voc['idf'] = text_clf['vect'].idf_"
   ]
  },
  {
   "cell_type": "code",
   "execution_count": 248,
   "metadata": {},
   "outputs": [
    {
     "data": {
      "text/plain": [
       "350"
      ]
     },
     "execution_count": 248,
     "metadata": {},
     "output_type": "execute_result"
    }
   ],
   "source": [
    "len(text_clf['vect'].vocabulary_)"
   ]
  },
  {
   "cell_type": "code",
   "execution_count": 249,
   "metadata": {},
   "outputs": [
    {
     "data": {
      "text/html": [
       "<div>\n",
       "<style scoped>\n",
       "    .dataframe tbody tr th:only-of-type {\n",
       "        vertical-align: middle;\n",
       "    }\n",
       "\n",
       "    .dataframe tbody tr th {\n",
       "        vertical-align: top;\n",
       "    }\n",
       "\n",
       "    .dataframe thead th {\n",
       "        text-align: right;\n",
       "    }\n",
       "</style>\n",
       "<table border=\"1\" class=\"dataframe\">\n",
       "  <thead>\n",
       "    <tr style=\"text-align: right;\">\n",
       "      <th></th>\n",
       "      <th>features</th>\n",
       "      <th>count</th>\n",
       "      <th>idf</th>\n",
       "    </tr>\n",
       "  </thead>\n",
       "  <tbody>\n",
       "    <tr>\n",
       "      <td>108</td>\n",
       "      <td>make sense</td>\n",
       "      <td>169</td>\n",
       "      <td>2.863218</td>\n",
       "    </tr>\n",
       "    <tr>\n",
       "      <td>202</td>\n",
       "      <td>approximately million</td>\n",
       "      <td>26</td>\n",
       "      <td>2.863218</td>\n",
       "    </tr>\n",
       "    <tr>\n",
       "      <td>126</td>\n",
       "      <td>cost reduction</td>\n",
       "      <td>61</td>\n",
       "      <td>2.863218</td>\n",
       "    </tr>\n",
       "    <tr>\n",
       "      <td>131</td>\n",
       "      <td>foreign currency</td>\n",
       "      <td>94</td>\n",
       "      <td>2.863218</td>\n",
       "    </tr>\n",
       "    <tr>\n",
       "      <td>209</td>\n",
       "      <td>diluted share</td>\n",
       "      <td>72</td>\n",
       "      <td>2.863218</td>\n",
       "    </tr>\n",
       "    <tr>\n",
       "      <td>93</td>\n",
       "      <td>low level</td>\n",
       "      <td>165</td>\n",
       "      <td>2.863218</td>\n",
       "    </tr>\n",
       "    <tr>\n",
       "      <td>203</td>\n",
       "      <td>deliver strong</td>\n",
       "      <td>70</td>\n",
       "      <td>2.863218</td>\n",
       "    </tr>\n",
       "    <tr>\n",
       "      <td>221</td>\n",
       "      <td>yes mean</td>\n",
       "      <td>348</td>\n",
       "      <td>2.863218</td>\n",
       "    </tr>\n",
       "    <tr>\n",
       "      <td>320</td>\n",
       "      <td>12 month</td>\n",
       "      <td>5</td>\n",
       "      <td>2.863218</td>\n",
       "    </tr>\n",
       "    <tr>\n",
       "      <td>201</td>\n",
       "      <td>continue work</td>\n",
       "      <td>60</td>\n",
       "      <td>2.757858</td>\n",
       "    </tr>\n",
       "    <tr>\n",
       "      <td>182</td>\n",
       "      <td>think lot</td>\n",
       "      <td>305</td>\n",
       "      <td>2.757858</td>\n",
       "    </tr>\n",
       "    <tr>\n",
       "      <td>79</td>\n",
       "      <td>year think</td>\n",
       "      <td>345</td>\n",
       "      <td>2.757858</td>\n",
       "    </tr>\n",
       "    <tr>\n",
       "      <td>77</td>\n",
       "      <td>just question</td>\n",
       "      <td>139</td>\n",
       "      <td>2.757858</td>\n",
       "    </tr>\n",
       "    <tr>\n",
       "      <td>20</td>\n",
       "      <td>good afternoon</td>\n",
       "      <td>100</td>\n",
       "      <td>2.757858</td>\n",
       "    </tr>\n",
       "    <tr>\n",
       "      <td>172</td>\n",
       "      <td>50 million</td>\n",
       "      <td>16</td>\n",
       "      <td>2.757858</td>\n",
       "    </tr>\n",
       "    <tr>\n",
       "      <td>46</td>\n",
       "      <td>mention earlier</td>\n",
       "      <td>181</td>\n",
       "      <td>2.757858</td>\n",
       "    </tr>\n",
       "    <tr>\n",
       "      <td>23</td>\n",
       "      <td>net loss</td>\n",
       "      <td>200</td>\n",
       "      <td>2.757858</td>\n",
       "    </tr>\n",
       "    <tr>\n",
       "      <td>267</td>\n",
       "      <td>ebitda margin</td>\n",
       "      <td>78</td>\n",
       "      <td>2.757858</td>\n",
       "    </tr>\n",
       "    <tr>\n",
       "      <td>40</td>\n",
       "      <td>weighted average</td>\n",
       "      <td>325</td>\n",
       "      <td>2.757858</td>\n",
       "    </tr>\n",
       "    <tr>\n",
       "      <td>285</td>\n",
       "      <td>think kind</td>\n",
       "      <td>303</td>\n",
       "      <td>2.757858</td>\n",
       "    </tr>\n",
       "  </tbody>\n",
       "</table>\n",
       "</div>"
      ],
      "text/plain": [
       "                  features  count       idf\n",
       "108             make sense    169  2.863218\n",
       "202  approximately million     26  2.863218\n",
       "126         cost reduction     61  2.863218\n",
       "131       foreign currency     94  2.863218\n",
       "209          diluted share     72  2.863218\n",
       "93               low level    165  2.863218\n",
       "203         deliver strong     70  2.863218\n",
       "221               yes mean    348  2.863218\n",
       "320               12 month      5  2.863218\n",
       "201          continue work     60  2.757858\n",
       "182              think lot    305  2.757858\n",
       "79              year think    345  2.757858\n",
       "77           just question    139  2.757858\n",
       "20          good afternoon    100  2.757858\n",
       "172             50 million     16  2.757858\n",
       "46         mention earlier    181  2.757858\n",
       "23                net loss    200  2.757858\n",
       "267          ebitda margin     78  2.757858\n",
       "40        weighted average    325  2.757858\n",
       "285             think kind    303  2.757858"
      ]
     },
     "execution_count": 249,
     "metadata": {},
     "output_type": "execute_result"
    }
   ],
   "source": [
    "voc.sort_values(by=[\"idf\"],ascending=False).head(n=20)"
   ]
  },
  {
   "cell_type": "code",
   "execution_count": 175,
   "metadata": {},
   "outputs": [],
   "source": [
    "(n_classes, n_features) = text_clf['clf'].centroids_"
   ]
  },
  {
   "cell_type": "code",
   "execution_count": 186,
   "metadata": {},
   "outputs": [
    {
     "data": {
      "text/plain": [
       "[<matplotlib.lines.Line2D at 0x1c08b4e4688>]"
      ]
     },
     "execution_count": 186,
     "metadata": {},
     "output_type": "execute_result"
    },
    {
     "data": {
      "image/png": "[encoded data removed]",
      "text/plain": [
       "<Figure size 432x288 with 1 Axes>"
      ]
     },
     "metadata": {
      "needs_background": "light"
     },
     "output_type": "display_data"
    }
   ],
   "source": [
    "plt.plot(n_classes, n_features)"
   ]
  },
  {
   "cell_type": "code",
   "execution_count": 202,
   "metadata": {},
   "outputs": [
    {
     "data": {
      "text/plain": [
       "' thanks Mike and  .'"
      ]
     },
     "execution_count": 202,
     "metadata": {},
     "output_type": "execute_result"
    }
   ],
   "source": [
    "import re\n",
    "\n",
    "ttt = \" thanks Mike and good morning everyone .\"\n",
    "re.sub(r'good morning( everyone)*', '', ttt)"
   ]
  },
  {
   "cell_type": "code",
   "execution_count": null,
   "metadata": {},
   "outputs": [],
   "source": []
  }
 ],
 "metadata": {
  "kernelspec": {
   "display_name": "Python 3",
   "language": "python",
   "name": "python3"
  },
  "language_info": {
   "codemirror_mode": {
    "name": "ipython",
    "version": 3
   },
   "file_extension": ".py",
   "mimetype": "text/x-python",
   "name": "python",
   "nbconvert_exporter": "python",
   "pygments_lexer": "ipython3",
   "version": "3.7.4"
  }
 },
 "nbformat": 4,
 "nbformat_minor": 2
}
