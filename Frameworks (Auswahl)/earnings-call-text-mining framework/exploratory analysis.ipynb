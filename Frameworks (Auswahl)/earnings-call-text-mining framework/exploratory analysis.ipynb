{
 "cells": [
  {
   "cell_type": "code",
   "execution_count": 1,
   "metadata": {},
   "outputs": [],
   "source": [
    "import os, random, time"
   ]
  },
  {
   "cell_type": "code",
   "execution_count": 2,
   "metadata": {},
   "outputs": [
    {
     "name": "stdout",
     "output_type": "stream",
     "text": [
      "Totoal doc: 85\n",
      "Number of doc in default group: 30\n",
      "Number of doc in ndefault group: 55\n"
     ]
    }
   ],
   "source": [
    "def load_data(data, label):\n",
    "    for file in os.listdir(label):\n",
    "        if file.endswith('.txt') and not file.startswith('.'):\n",
    "            file_path = label + '/' + file\n",
    "            with open(file_path, 'r', encoding='utf-8') as f:\n",
    "                text = f.read()\n",
    "                data[text] = label\n",
    "df = {}\n",
    "load_data(df, 'default')\n",
    "default_num = len(df)\n",
    "load_data(df, 'ndefault')\n",
    "train_df = {}\n",
    "test_df = {}\n",
    "default_df = {}\n",
    "load_data(default_df, 'default')\n",
    "ndefault_df = {}\n",
    "load_data(ndefault_df, 'ndefault')\n",
    "print(\"Totoal doc:\", len(df))\n",
    "print(\"Number of doc in default group:\", default_num)\n",
    "print(\"Number of doc in ndefault group:\", len(df)-default_num)"
   ]
  },
  {
   "cell_type": "code",
   "execution_count": null,
   "metadata": {},
   "outputs": [],
   "source": [
    "import textacy\n",
    "en = textacy.load_spacy_lang(\"en_core_web_sm\")\n",
    "default_corpus = textacy.Corpus(en, default_df)\n",
    "ndefault_corpus = textacy.Corpus(en, ndefault_df)"
   ]
  },
  {
   "cell_type": "code",
   "execution_count": null,
   "metadata": {},
   "outputs": [],
   "source": []
  },
  {
   "cell_type": "markdown",
   "metadata": {},
   "source": [
    "## Analyze a Doc"
   ]
  },
  {
   "cell_type": "code",
   "execution_count": null,
   "metadata": {},
   "outputs": [],
   "source": [
    "from textacy import TextStats\n",
    "import pandas as pd\n",
    "import pandas as pd\n",
    "default_stat = pd.DataFrame(columns = ['n_words', 'n_sents', 'n_long_words', 'ARI'])\n",
    "doc_id = 0\n",
    "for doc in default_corpus:\n",
    "    ts = TextStats(doc)\n",
    "    default_stat.loc[doc_id] = [ts.n_words, ts.n_sents, ts.n_long_words, ts.automated_readability_index]\n",
    "    doc_id += 1\n",
    "\n",
    "ndefault_stat = pd.DataFrame(columns = ['n_words', 'n_sents', 'n_long_words', 'ARI'])\n",
    "doc_id = 0\n",
    "for doc in ndefault_corpus:\n",
    "    ts = TextStats(doc)\n",
    "    ndefault_stat.loc[doc_id] = [ts.n_words, ts.n_sents, ts.n_long_words, ts.automated_readability_index]\n",
    "    doc_id += 1\n",
    "    \n",
    "    \n",
    "    "
   ]
  },
  {
   "cell_type": "code",
   "execution_count": null,
   "metadata": {},
   "outputs": [],
   "source": [
    "default_stat.describe()"
   ]
  },
  {
   "cell_type": "code",
   "execution_count": null,
   "metadata": {},
   "outputs": [],
   "source": [
    "ndefault_stat.describe()"
   ]
  },
  {
   "cell_type": "code",
   "execution_count": null,
   "metadata": {},
   "outputs": [],
   "source": [
    "# TextBlob Sentiment Analysis\n",
    "from textblob import TextBlob\n",
    "tb = TextBlob(default_corpus[0].text)"
   ]
  },
  {
   "cell_type": "code",
   "execution_count": null,
   "metadata": {},
   "outputs": [],
   "source": [
    "for sent in tb.sentences:\n",
    "    print(sent.sentiment.polarity)\n",
    "print(len(tb.sentences))"
   ]
  },
  {
   "cell_type": "code",
   "execution_count": null,
   "metadata": {},
   "outputs": [],
   "source": [
    "def sentiment_by_sentence(text, doc_id, default):\n",
    "    sentiment_df = pd.DataFrame(columns = [\"default\", \"doc_id\", \"polarity\", \"subjectivity\", \"progress\"])\n",
    "    tb = TextBlob(text)\n",
    "    sent_id = 0\n",
    "    num_sents = len(tb.sentences)\n",
    "    for sent in tb.sentences:\n",
    "        sentiment = sent.sentiment\n",
    "        sentiment_df.loc[sent_id] = [default, doc_id, sentiment.polarity, sentiment.subjectivity, round((sent_id+1)/num_sents,4)]\n",
    "        sent_id += 1\n",
    "    return sentiment_df"
   ]
  },
  {
   "cell_type": "code",
   "execution_count": null,
   "metadata": {},
   "outputs": [],
   "source": [
    "# default_sentiment = pd.DataFrame(columns = [\"default\", \"doc_id\", \"polarity\", \"subjectivity\", \"progress\"])\n",
    "# doc_id = 1\n",
    "# for doc in default_corpus:\n",
    "#     default_sentiment = pd.concat([default_sentiment, sentiment_by_sentence(doc.text, doc_id, True)])\n",
    "#     doc_id += 1"
   ]
  },
  {
   "cell_type": "code",
   "execution_count": null,
   "metadata": {},
   "outputs": [],
   "source": [
    "#default_sentiment.to_csv(\"default_data.csv\")"
   ]
  },
  {
   "cell_type": "code",
   "execution_count": null,
   "metadata": {},
   "outputs": [],
   "source": [
    "ndefault_sentiment = pd.DataFrame(columns = [\"default\", \"doc_id\", \"polarity\", \"subjectivity\", \"progress\"])\n",
    "doc_id = 1\n",
    "for doc in ndefault_corpus:\n",
    "    ndefault_sentiment = pd.concat([ndefault_sentiment, sentiment_by_sentence(doc.text, doc_id, False)])\n",
    "    doc_id += 1\n",
    "ndefault_sentiment.to_csv(\"ndefault_data.csv\")"
   ]
  },
  {
   "cell_type": "code",
   "execution_count": null,
   "metadata": {},
   "outputs": [],
   "source": [
    "import matplotlib.pyplot as plt\n",
    "polarity = pp['polarity']\n",
    "subjectivity = pp['subjectivity']\n",
    "progress = pp['subjectivity']\n",
    "plt.plot(progress, polarity)"
   ]
  },
  {
   "cell_type": "code",
   "execution_count": null,
   "metadata": {},
   "outputs": [],
   "source": []
  }
 ],
 "metadata": {
  "kernelspec": {
   "display_name": "Python 3",
   "language": "python",
   "name": "python3"
  },
  "language_info": {
   "codemirror_mode": {
    "name": "ipython",
    "version": 3
   },
   "file_extension": ".py",
   "mimetype": "text/x-python",
   "name": "python",
   "nbconvert_exporter": "python",
   "pygments_lexer": "ipython3",
   "version": "3.8.5"
  }
 },
 "nbformat": 4,
 "nbformat_minor": 2
}
